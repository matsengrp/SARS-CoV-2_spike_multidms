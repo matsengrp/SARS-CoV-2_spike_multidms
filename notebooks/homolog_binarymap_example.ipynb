{
 "cells": [
  {
   "cell_type": "markdown",
   "id": "1f7f0224-78d0-4cfc-ac06-48c1d1b4dfe2",
   "metadata": {},
   "source": [
    "# Homolog BinaryMap Encoding"
   ]
  },
  {
   "cell_type": "markdown",
   "id": "809b2cd8",
   "metadata": {},
   "source": [
    "## Import `Python` modules"
   ]
  },
  {
   "cell_type": "code",
   "execution_count": 1,
   "id": "e3816f0e",
   "metadata": {},
   "outputs": [],
   "source": [
    "import pandas as pd\n",
    "import re\n",
    "import json\n",
    "import binarymap as bmap\n",
    "import matplotlib.pyplot as plt\n",
    "import seaborn as sns\n",
    "import jax\n",
    "jax.config.update(\"jax_enable_x64\", True)\n",
    "import jax.numpy as jnp\n",
    "from jax.experimental import sparse\n",
    "from jaxopt import ProximalGradient\n",
    "import jaxopt\n",
    "import numpy as onp\n",
    "from scipy.stats import pearsonr\n",
    "\n",
    "from collections import defaultdict\n",
    "from timeit import default_timer as timer\n",
    "\n",
    "%matplotlib inline\n",
    "import multidms"
   ]
  },
  {
   "cell_type": "markdown",
   "id": "3b14e961",
   "metadata": {},
   "source": [
    "## Strategy for converting mutations to be relative to the reference homolog"
   ]
  },
  {
   "cell_type": "code",
   "execution_count": 9,
   "id": "1dd9def7",
   "metadata": {},
   "outputs": [],
   "source": [
    "# reference = \"MT\"\n",
    "homologs = {\n",
    "    \"1\" : \"M-G\",\n",
    "    \"2\" : \"MPP\"\n",
    "}"
   ]
  },
  {
   "cell_type": "code",
   "execution_count": 15,
   "id": "380d116f",
   "metadata": {},
   "outputs": [
    {
     "data": {
      "text/html": [
       "<div>\n",
       "<style scoped>\n",
       "    .dataframe tbody tr th:only-of-type {\n",
       "        vertical-align: middle;\n",
       "    }\n",
       "\n",
       "    .dataframe tbody tr th {\n",
       "        vertical-align: top;\n",
       "    }\n",
       "\n",
       "    .dataframe thead th {\n",
       "        text-align: right;\n",
       "    }\n",
       "</style>\n",
       "<table border=\"1\" class=\"dataframe\">\n",
       "  <thead>\n",
       "    <tr style=\"text-align: right;\">\n",
       "      <th></th>\n",
       "      <th>condition</th>\n",
       "      <th>aa_substitutions</th>\n",
       "      <th>func_score</th>\n",
       "    </tr>\n",
       "  </thead>\n",
       "  <tbody>\n",
       "    <tr>\n",
       "      <th>0</th>\n",
       "      <td>1</td>\n",
       "      <td>M1E</td>\n",
       "      <td>2.0</td>\n",
       "    </tr>\n",
       "    <tr>\n",
       "      <th>1</th>\n",
       "      <td>1</td>\n",
       "      <td>G3R</td>\n",
       "      <td>-7.0</td>\n",
       "    </tr>\n",
       "    <tr>\n",
       "      <th>2</th>\n",
       "      <td>1</td>\n",
       "      <td>G3P</td>\n",
       "      <td>-0.5</td>\n",
       "    </tr>\n",
       "    <tr>\n",
       "      <th>3</th>\n",
       "      <td>1</td>\n",
       "      <td>M1W</td>\n",
       "      <td>2.3</td>\n",
       "    </tr>\n",
       "    <tr>\n",
       "      <th>4</th>\n",
       "      <td>2</td>\n",
       "      <td>M1E</td>\n",
       "      <td>1.0</td>\n",
       "    </tr>\n",
       "    <tr>\n",
       "      <th>5</th>\n",
       "      <td>2</td>\n",
       "      <td>P3R</td>\n",
       "      <td>-5.0</td>\n",
       "    </tr>\n",
       "    <tr>\n",
       "      <th>6</th>\n",
       "      <td>2</td>\n",
       "      <td>P3G</td>\n",
       "      <td>0.4</td>\n",
       "    </tr>\n",
       "    <tr>\n",
       "      <th>7</th>\n",
       "      <td>2</td>\n",
       "      <td>M1E P3G</td>\n",
       "      <td>2.7</td>\n",
       "    </tr>\n",
       "    <tr>\n",
       "      <th>8</th>\n",
       "      <td>2</td>\n",
       "      <td>M1E P3R</td>\n",
       "      <td>-2.7</td>\n",
       "    </tr>\n",
       "    <tr>\n",
       "      <th>9</th>\n",
       "      <td>2</td>\n",
       "      <td>P2T</td>\n",
       "      <td>0.3</td>\n",
       "    </tr>\n",
       "  </tbody>\n",
       "</table>\n",
       "</div>"
      ],
      "text/plain": [
       "  condition aa_substitutions  func_score\n",
       "0         1              M1E         2.0\n",
       "1         1              G3R        -7.0\n",
       "2         1              G3P        -0.5\n",
       "3         1              M1W         2.3\n",
       "4         2              M1E         1.0\n",
       "5         2              P3R        -5.0\n",
       "6         2              P3G         0.4\n",
       "7         2          M1E P3G         2.7\n",
       "8         2          M1E P3R        -2.7\n",
       "9         2              P2T         0.3"
      ]
     },
     "execution_count": 15,
     "metadata": {},
     "output_type": "execute_result"
    }
   ],
   "source": [
    "func_score_dict = {\n",
    "    'condition' : [\"1\",\"1\",\"1\",\"1\", \"2\",\"2\",\"2\",\"2\",\"2\",\"2\"],\n",
    "    'aa_substitutions' : ['M1E', 'G3R', 'G3P', 'M1W', 'M1E', 'P3R', 'P3G', 'M1E P3G', 'M1E P3R', 'P2T'],\n",
    "    'func_score' : [2, -7, -0.5, 2.3, 1, -5, 0.4, 2.7, -2.7, 0.3],\n",
    "}\n",
    "func_score_df = pd.DataFrame(func_score_dict)\n",
    "func_score_df"
   ]
  },
  {
   "cell_type": "code",
   "execution_count": 11,
   "id": "cd266716",
   "metadata": {},
   "outputs": [],
   "source": [
    "from multidms.model import global_epistasis"
   ]
  },
  {
   "cell_type": "code",
   "execution_count": 12,
   "id": "03e94194",
   "metadata": {},
   "outputs": [
    {
     "data": {
      "text/plain": [
       "frozendict.frozendict({'predict': Partial(<CompiledFunction of <function abstract_epistasis at 0x7f58c19ed3a0>>, φ=<CompiledFunction of <function φ_shift at 0x7f58c19f2b80>>, g=<CompiledFunction of <function sigmoidal_global_epistasis at 0x7f58c19f2f70>>, t=<CompiledFunction of <function identity_activation at 0x7f58c19f23a0>>), 'objective': Partial(<CompiledFunction of <function gamma_corrected_cost_smooth at 0x7f58c19edb80>>, f=Partial(<CompiledFunction of <function abstract_epistasis at 0x7f58c19ed3a0>>, φ=<CompiledFunction of <function φ_shift at 0x7f58c19f2b80>>, g=<CompiledFunction of <function sigmoidal_global_epistasis at 0x7f58c19f2f70>>, t=<CompiledFunction of <function identity_activation at 0x7f58c19f23a0>>)), 'proximal': <CompiledFunction of <function lasso_lock_prox at 0x7f58c19ed790>>})"
      ]
     },
     "execution_count": 12,
     "metadata": {},
     "output_type": "execute_result"
    }
   ],
   "source": [
    "global_epistasis"
   ]
  },
  {
   "cell_type": "code",
   "execution_count": 14,
   "id": "1386cd79",
   "metadata": {},
   "outputs": [
    {
     "name": "stdout",
     "output_type": "stream",
     "text": [
      "Found 1 site(s) lacking data in at least one condition.\n",
      "1 of the 10 variants were removed because they had mutations at the above sites, leaving 9 variants.\n"
     ]
    },
    {
     "name": "stderr",
     "output_type": "stream",
     "text": [
      "100%|███████████████████████████████████████████████████████████| 5/5 [00:00<00:00, 250.95it/s]\n",
      "WARNING:absl:No GPU/TPU found, falling back to CPU. (Set TF_CPP_MIN_LOG_LEVEL=0 and rerun for more info.)\n"
     ]
    },
    {
     "name": "stdout",
     "output_type": "stream",
     "text": [
      "There were 0 cache hits in total for condition 2.\n"
     ]
    },
    {
     "ename": "ValueError",
     "evalue": "Non-hashable static arguments are not supported. An error occurred during a call to 'abstract_epistasis' while trying to hash an object of type <class 'dict'>, {'β': DeviceArray([ 0.08086788, -0.38624702, -0.37565558,  1.66897423], dtype=float64), 'C_ref': DeviceArray([5.], dtype=float64), 'S': DeviceArray([0., 0., 0., 0.], dtype=float64), 'C': DeviceArray([0.], dtype=float64), 'γ': DeviceArray([0.], dtype=float64), 'α': {'ge_scale': DeviceArray([10.], dtype=float64), 'ge_bias': DeviceArray([-10.], dtype=float64)}}. The error was:\nTypeError: unhashable type: 'dict'\n",
     "output_type": "error",
     "traceback": [
      "\u001b[0;31m---------------------------------------------------------------------------\u001b[0m",
      "\u001b[0;31mValueError\u001b[0m                                Traceback (most recent call last)",
      "Cell \u001b[0;32mIn [14], line 1\u001b[0m\n\u001b[0;32m----> 1\u001b[0m mdms \u001b[38;5;241m=\u001b[39m \u001b[43mmultidms\u001b[49m\u001b[38;5;241;43m.\u001b[39;49m\u001b[43mMultidms\u001b[49m\u001b[43m(\u001b[49m\n\u001b[1;32m      2\u001b[0m \u001b[43m    \u001b[49m\u001b[43mfunc_score_df\u001b[49m\u001b[43m,\u001b[49m\n\u001b[1;32m      3\u001b[0m \u001b[43m    \u001b[49m\u001b[43mmultidms\u001b[49m\u001b[38;5;241;43m.\u001b[39;49m\u001b[43mmodel\u001b[49m\u001b[38;5;241;43m.\u001b[39;49m\u001b[43mglobal_epistasis\u001b[49m\u001b[43m[\u001b[49m\u001b[38;5;124;43m\"\u001b[39;49m\u001b[38;5;124;43mpredict\u001b[39;49m\u001b[38;5;124;43m\"\u001b[39;49m\u001b[43m]\u001b[49m\u001b[43m,\u001b[49m\n\u001b[1;32m      4\u001b[0m \u001b[43m    \u001b[49m\u001b[43mmultidms\u001b[49m\u001b[38;5;241;43m.\u001b[39;49m\u001b[43mmodel\u001b[49m\u001b[38;5;241;43m.\u001b[39;49m\u001b[43mglobal_epistasis\u001b[49m\u001b[43m[\u001b[49m\u001b[38;5;124;43m\"\u001b[39;49m\u001b[38;5;124;43mobjective\u001b[39;49m\u001b[38;5;124;43m\"\u001b[39;49m\u001b[43m]\u001b[49m\u001b[43m,\u001b[49m\n\u001b[1;32m      5\u001b[0m \u001b[43m    \u001b[49m\u001b[43mmultidms\u001b[49m\u001b[38;5;241;43m.\u001b[39;49m\u001b[43mmodel\u001b[49m\u001b[38;5;241;43m.\u001b[39;49m\u001b[43mglobal_epistasis\u001b[49m\u001b[43m[\u001b[49m\u001b[38;5;124;43m\"\u001b[39;49m\u001b[38;5;124;43mproximal\u001b[39;49m\u001b[38;5;124;43m\"\u001b[39;49m\u001b[43m]\u001b[49m\u001b[43m,\u001b[49m\n\u001b[1;32m      6\u001b[0m \u001b[43m    \u001b[49m\u001b[43malphabet\u001b[49m\u001b[43m \u001b[49m\u001b[38;5;241;43m=\u001b[39;49m\u001b[43m \u001b[49m\u001b[43mmultidms\u001b[49m\u001b[38;5;241;43m.\u001b[39;49m\u001b[43mAAS_WITHSTOP\u001b[49m\u001b[43m,\u001b[49m\n\u001b[1;32m      7\u001b[0m \u001b[43m    \u001b[49m\u001b[43mreference\u001b[49m\u001b[43m \u001b[49m\u001b[38;5;241;43m=\u001b[39;49m\u001b[43m \u001b[49m\u001b[38;5;124;43m\"\u001b[39;49m\u001b[38;5;124;43m1\u001b[39;49m\u001b[38;5;124;43m\"\u001b[39;49m\n\u001b[1;32m      8\u001b[0m \u001b[43m)\u001b[49m\n",
      "File \u001b[0;32m~/MatsenGroup/Projects/homolog-model/multidms/multidms/multidms.py:756\u001b[0m, in \u001b[0;36mMultidms.__init__\u001b[0;34m(self, data_to_fit, predict_function, object_function, proximal_function, reference, alphabet, init_missing, letter_suffixed_sites, condition_colors, **kwargs)\u001b[0m\n\u001b[1;32m    753\u001b[0m \u001b[38;5;28mself\u001b[39m\u001b[38;5;241m.\u001b[39mmut_df \u001b[38;5;241m=\u001b[39m mut_df\n\u001b[1;32m    755\u001b[0m \u001b[38;5;66;03m# add other current model properties.\u001b[39;00m\n\u001b[0;32m--> 756\u001b[0m \u001b[38;5;28;43mself\u001b[39;49m\u001b[38;5;241;43m.\u001b[39;49m\u001b[43m_update_model_effects_dfs\u001b[49m\u001b[43m(\u001b[49m\u001b[43m)\u001b[49m\n",
      "File \u001b[0;32m~/MatsenGroup/Projects/homolog-model/multidms/multidms/multidms.py:793\u001b[0m, in \u001b[0;36mMultidms._update_model_effects_dfs\u001b[0;34m(self, **kwargs)\u001b[0m\n\u001b[1;32m    779\u001b[0m h_params \u001b[38;5;241m=\u001b[39m {\n\u001b[1;32m    780\u001b[0m     \u001b[38;5;124m\"\u001b[39m\u001b[38;5;124mβ\u001b[39m\u001b[38;5;124m\"\u001b[39m:\u001b[38;5;28mself\u001b[39m\u001b[38;5;241m.\u001b[39mparams[\u001b[38;5;124m\"\u001b[39m\u001b[38;5;124mβ\u001b[39m\u001b[38;5;124m\"\u001b[39m], \n\u001b[1;32m    781\u001b[0m     \u001b[38;5;124m\"\u001b[39m\u001b[38;5;124mC_ref\u001b[39m\u001b[38;5;124m\"\u001b[39m:\u001b[38;5;28mself\u001b[39m\u001b[38;5;241m.\u001b[39mparams[\u001b[38;5;124m\"\u001b[39m\u001b[38;5;124mC_ref\u001b[39m\u001b[38;5;124m\"\u001b[39m],\n\u001b[0;32m   (...)\u001b[0m\n\u001b[1;32m    785\u001b[0m     \u001b[38;5;124m\"\u001b[39m\u001b[38;5;124mα\u001b[39m\u001b[38;5;124m\"\u001b[39m: \u001b[38;5;28mself\u001b[39m\u001b[38;5;241m.\u001b[39mparams[\u001b[38;5;124m\"\u001b[39m\u001b[38;5;124mα\u001b[39m\u001b[38;5;124m\"\u001b[39m]\n\u001b[1;32m    786\u001b[0m } \n\u001b[1;32m    788\u001b[0m \u001b[38;5;66;03m# latent predictions on all variants\u001b[39;00m\n\u001b[1;32m    789\u001b[0m \u001b[38;5;66;03m# z_h = self._ϕ(h_params, self.binarymaps['X'][condition])\u001b[39;00m\n\u001b[1;32m    790\u001b[0m \u001b[38;5;66;03m# df.loc[hdf.index, \"predicted_latent_phenotype\"] = z_h\u001b[39;00m\n\u001b[1;32m    791\u001b[0m \n\u001b[1;32m    792\u001b[0m \u001b[38;5;66;03m# full model predictions\u001b[39;00m\n\u001b[0;32m--> 793\u001b[0m y_h_pred \u001b[38;5;241m=\u001b[39m \u001b[38;5;28;43mself\u001b[39;49m\u001b[38;5;241;43m.\u001b[39;49m\u001b[43mpredict_function\u001b[49m\u001b[43m(\u001b[49m\n\u001b[1;32m    794\u001b[0m \u001b[43m    \u001b[49m\u001b[43mh_params\u001b[49m\u001b[43m,\u001b[49m\u001b[43m \u001b[49m\n\u001b[1;32m    795\u001b[0m \u001b[43m    \u001b[49m\u001b[38;5;28;43mself\u001b[39;49m\u001b[38;5;241;43m.\u001b[39;49m\u001b[43mbinarymaps\u001b[49m\u001b[43m[\u001b[49m\u001b[38;5;124;43m'\u001b[39;49m\u001b[38;5;124;43mX\u001b[39;49m\u001b[38;5;124;43m'\u001b[39;49m\u001b[43m]\u001b[49m\u001b[43m[\u001b[49m\u001b[43mcondition\u001b[49m\u001b[43m]\u001b[49m\u001b[43m,\u001b[49m\u001b[43m \u001b[49m\n\u001b[1;32m    796\u001b[0m \u001b[43m    \u001b[49m\u001b[38;5;66;43;03m#self._ϕ, self._g, self._t,\u001b[39;49;00m\n\u001b[1;32m    797\u001b[0m \u001b[43m    \u001b[49m\u001b[38;5;241;43m*\u001b[39;49m\u001b[38;5;241;43m*\u001b[39;49m\u001b[43mkwargs\u001b[49m\n\u001b[1;32m    798\u001b[0m \u001b[43m\u001b[49m\u001b[43m)\u001b[49m\n\u001b[1;32m    800\u001b[0m df\u001b[38;5;241m.\u001b[39mloc[hdf\u001b[38;5;241m.\u001b[39mindex, \u001b[38;5;124mf\u001b[39m\u001b[38;5;124m\"\u001b[39m\u001b[38;5;124mpredicted_func_score\u001b[39m\u001b[38;5;124m\"\u001b[39m] \u001b[38;5;241m=\u001b[39m y_h_pred\n\u001b[1;32m    802\u001b[0m \u001b[38;5;66;03m# add the corrected functional scores by tuned gamma\u001b[39;00m\n",
      "\u001b[0;31mValueError\u001b[0m: Non-hashable static arguments are not supported. An error occurred during a call to 'abstract_epistasis' while trying to hash an object of type <class 'dict'>, {'β': DeviceArray([ 0.08086788, -0.38624702, -0.37565558,  1.66897423], dtype=float64), 'C_ref': DeviceArray([5.], dtype=float64), 'S': DeviceArray([0., 0., 0., 0.], dtype=float64), 'C': DeviceArray([0.], dtype=float64), 'γ': DeviceArray([0.], dtype=float64), 'α': {'ge_scale': DeviceArray([10.], dtype=float64), 'ge_bias': DeviceArray([-10.], dtype=float64)}}. The error was:\nTypeError: unhashable type: 'dict'\n"
     ]
    }
   ],
   "source": [
    "mdms = multidms.Multidms(\n",
    "    func_score_df,\n",
    "    multidms.model.global_epistasis[\"predict\"],\n",
    "    multidms.model.global_epistasis[\"objective\"],\n",
    "    multidms.model.global_epistasis[\"proximal\"],\n",
    "    alphabet = multidms.AAS_WITHSTOP,\n",
    "    reference = \"1\"\n",
    ")"
   ]
  },
  {
   "cell_type": "code",
   "execution_count": null,
   "id": "b507525e",
   "metadata": {},
   "outputs": [],
   "source": []
  },
  {
   "cell_type": "code",
   "execution_count": null,
   "id": "dadcfb9a",
   "metadata": {},
   "outputs": [],
   "source": []
  }
 ],
 "metadata": {
  "kernelspec": {
   "display_name": "Python 3 (ipykernel)",
   "language": "python",
   "name": "python3"
  },
  "language_info": {
   "codemirror_mode": {
    "name": "ipython",
    "version": 3
   },
   "file_extension": ".py",
   "mimetype": "text/x-python",
   "name": "python",
   "nbconvert_exporter": "python",
   "pygments_lexer": "ipython3",
   "version": "3.10.6"
  }
 },
 "nbformat": 4,
 "nbformat_minor": 5
}
