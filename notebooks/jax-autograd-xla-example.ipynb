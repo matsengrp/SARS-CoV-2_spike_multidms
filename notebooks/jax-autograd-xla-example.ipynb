{
 "cells": [
  {
   "cell_type": "markdown",
   "id": "cd18d90e",
   "metadata": {},
   "source": [
    "# `multidms` fitting pipeline\n",
    "\n",
    "Here, we demonstrate the pipeline for fitting a `multidms` model to data from [six deep mutational scanning experiments](https://github.com/dms-vep) across 3 homologs of the Spike protein."
   ]
  },
  {
   "cell_type": "code",
   "execution_count": 1,
   "id": "53fa951c",
   "metadata": {},
   "outputs": [],
   "source": [
    "import os\n",
    "import sys\n",
    "from collections import defaultdict\n",
    "import time\n",
    "\n",
    "import pandas as pd\n",
    "import seaborn as sns\n",
    "import matplotlib.pyplot as plt\n",
    "import matplotlib.patches as patches\n",
    "import numpy as onp\n",
    "from tqdm.notebook import tqdm\n",
    "import jax.numpy as jnp\n",
    "\n",
    "import multidms\n",
    "%load_ext autoreload\n",
    "%autoreload 2\n",
    "%matplotlib inline"
   ]
  },
  {
   "cell_type": "code",
   "execution_count": 12,
   "id": "6d602d24",
   "metadata": {},
   "outputs": [
    {
     "name": "stdout",
     "output_type": "stream",
     "text": [
      "21.8 µs ± 1.18 µs per loop (mean ± std. dev. of 7 runs, 100,000 loops each)\n",
      "4.08 µs ± 459 ns per loop (mean ± std. dev. of 7 runs, 100,000 loops each)\n"
     ]
    }
   ],
   "source": [
    "# import jax\n",
    "# from jax import grad, jit\n",
    "# def f(params, data):\n",
    "#     \"\"\"ret = transfors, ifs, loops\"\"\"\n",
    "#     return (data @ params['weights']) + params['bias']\n",
    "\n",
    "# # f_prime = df_{params}/d data\n",
    "# f_prime = grad(f)\n",
    "\n",
    "# # Jit-compiled\n",
    "# f_compiled = jit(f)\n",
    "\n",
    "# %timeit f(init_params, random_feature_array)\n",
    "# %timeit f_compiled(init_params, random_feature_array)"
   ]
  },
  {
   "cell_type": "code",
   "execution_count": 25,
   "id": "2d0f0bbd",
   "metadata": {},
   "outputs": [
    {
     "name": "stdout",
     "output_type": "stream",
     "text": [
      "Benchmarking non jit-compiled\n",
      "69.9 µs ± 16.8 µs per loop (mean ± std. dev. of 7 runs, 10,000 loops each)\n",
      "Benchmarking jit-compiled\n",
      "30 µs ± 548 ns per loop (mean ± std. dev. of 7 runs, 10,000 loops each)\n"
     ]
    }
   ],
   "source": [
    "# # import time\n",
    "# seed = 0\n",
    "# key = jax.random.PRNGKey(seed)\n",
    "# n_features = 10000\n",
    "# n_samples = 10\n",
    "\n",
    "# key1, key2, key3 = jax.random.split(key, num=3)\n",
    "# data = jax.random.normal(shape=(n_samples, n_features), key=key1)\n",
    "# params=dict(\n",
    "#     weights=jax.random.normal(shape=(n_features,), key=key2),\n",
    "#     bias=jax.random.normal(shape=(1,), key=key3)\n",
    "# )\n",
    "\n",
    "# print(\"Benchmarking non jit-compiled\")\n",
    "# %timeit f(params, data).block_until_ready()\n",
    "\n",
    "# print(\"Benchmarking jit-compiled\")\n",
    "# %timeit f_compiled(params, data).block_until_ready()"
   ]
  },
  {
   "cell_type": "code",
   "execution_count": 8,
   "id": "ea546ce5",
   "metadata": {},
   "outputs": [],
   "source": [
    "# import numpy as np\n",
    "# from jax.nn import selu\n",
    "# from jax import numpy as jnp\n",
    "# from jax import random as jran\n",
    "# from jax import jit\n",
    "\n",
    "# def feedforward_prediction(params, abscissa):\n",
    "\n",
    "#     activations = abscissa\n",
    "    \n",
    "#     #  Loop over every dense layer except the last\n",
    "#     for w, b in params[:-1]:\n",
    "#         outputs = jnp.dot(w, activations) + b  # apply affine transformation\n",
    "#         activations = selu(outputs)  #  apply nonlinear activation\n",
    "        \n",
    "#     #  Now for the final layer\n",
    "#     w_final, b_final = params[-1]\n",
    "#     final_outputs = jnp.dot(w_final, activations) + b_final \n",
    "#     return final_outputs  # Final layer is just w*x + b with no activation\n",
    "\n",
    "\n",
    "# def get_random_layer_params(m, n, ran_key, scale=0.01):\n",
    "#     \"\"\"Helper function to randomly initialize \n",
    "#     weights and biases using the JAX-defined randoms.\"\"\"\n",
    "#     w_key, b_key = jran.split(ran_key)\n",
    "#     ran_weights = scale * jran.normal(w_key, (n, m))\n",
    "#     ran_biases = scale * jran.normal(b_key, (n,)) \n",
    "#     return ran_weights, ran_biases\n",
    "\n",
    "\n",
    "# def get_init_network_params(sizes, ran_key):\n",
    "#     \"\"\"Initialize all layers for a fully-connected neural network.\"\"\"\n",
    "#     keys = jran.split(ran_key, len(sizes))\n",
    "#     return [get_random_layer_params(m, n, k) for m, n, k in zip(sizes[:-1], sizes[1:], keys)]\n",
    "\n",
    "\n",
    "# def get_network_layer_sizes(n_features, n_targets, n_layers, n_neurons_per_layer):\n",
    "#     dense_layer_sizes = [n_neurons_per_layer]*n_layers\n",
    "#     layer_sizes = [n_features, *dense_layer_sizes, n_targets]\n",
    "#     return layer_sizes\n"
   ]
  },
  {
   "cell_type": "code",
   "execution_count": 9,
   "id": "f0178923",
   "metadata": {},
   "outputs": [],
   "source": [
    "# SEED = 0\n",
    "# ran_key = jran.PRNGKey(SEED)\n",
    "# num_random_samples = 10\n",
    "# num_features, num_targets = 1, 1\n",
    "# num_layers, num_neurons_per_layer = 2, 8\n",
    "\n",
    "# layer_sizes = get_network_layer_sizes(\n",
    "#     num_features, num_targets, num_layers, num_neurons_per_layer)\n",
    "# init_params = get_init_network_params(layer_sizes, ran_key)\n",
    "# ran_key, func_key = jran.split(ran_key)\n",
    "# random_feature_array = jran.uniform(func_key, minval=0, maxval=1, shape=(num_features, ))"
   ]
  },
  {
   "cell_type": "code",
   "execution_count": 13,
   "id": "42ac3c1d",
   "metadata": {},
   "outputs": [
    {
     "name": "stdout",
     "output_type": "stream",
     "text": [
      "20.1 µs ± 2.15 µs per loop (mean ± std. dev. of 7 runs, 100,000 loops each)\n",
      "3.48 µs ± 501 ns per loop (mean ± std. dev. of 7 runs, 100,000 loops each)\n"
     ]
    }
   ],
   "source": [
    "# %timeit feedforward_prediction(init_params, random_feature_array)\n",
    "# jit_feedforward = jit(feedforward_prediction)\n",
    "# %timeit jit_feedforward(init_params, random_feature_array)"
   ]
  },
  {
   "cell_type": "code",
   "execution_count": 3,
   "id": "fd183438",
   "metadata": {},
   "outputs": [],
   "source": [
    "# @Partial(jax.jit,static_argnums=(0,1,),)\n",
    "# def f(ϕ, g, d_params, v_d):\n",
    "#     return g(d_params[\"α\"], ϕ(d_params, v_d))\n",
    "\n",
    "# @jax.jit\n",
    "# def g(α_params, z_d):\n",
    "#     activations = jax.nn.sigmoid(z_d[:, None])\n",
    "#     return (\n",
    "#         (α_params[\"ge_scale\"] @ activations.T)\n",
    "#         + α_params[\"ge_bias\"]\n",
    "#     )\n",
    "\n",
    "# @jax.jit\n",
    "# def ϕ(d_params, v_d):\n",
    "#     return (\n",
    "#         d_params[\"C_ref\"]\n",
    "#         + d_params[\"C_d\"]\n",
    "#         + (v_d @ (d_params[\"β_m\"] + d_params[\"s_md\"]))\n",
    "#     )"
   ]
  },
  {
   "cell_type": "code",
   "execution_count": 35,
   "id": "475f0d51",
   "metadata": {},
   "outputs": [],
   "source": [
    "import multidms.model as model\n",
    "af = model.softplus_activation"
   ]
  },
  {
   "cell_type": "code",
   "execution_count": 36,
   "id": "30d3a68e",
   "metadata": {},
   "outputs": [
    {
     "data": {
      "text/plain": [
       "True"
      ]
     },
     "execution_count": 36,
     "metadata": {},
     "output_type": "execute_result"
    }
   ],
   "source": [
    "af == model.softplus_activation"
   ]
  },
  {
   "cell_type": "code",
   "execution_count": 66,
   "id": "67b461b4",
   "metadata": {},
   "outputs": [
    {
     "data": {
      "text/plain": [
       "<multidms.multidms.MultiDmsModel at 0x7f6a6881cdc0>"
      ]
     },
     "execution_count": 66,
     "metadata": {},
     "output_type": "execute_result"
    }
   ],
   "source": [
    "imodel = multidms.MultiDmsModel(data, epistatic_model=model.perceptron_global_epistasis)\n",
    "imodel"
   ]
  },
  {
   "cell_type": "code",
   "execution_count": 75,
   "id": "1397a447",
   "metadata": {},
   "outputs": [
    {
     "data": {
      "text/plain": [
       "('Omicron_BA.2-1', 'Delta-3')"
      ]
     },
     "execution_count": 75,
     "metadata": {},
     "output_type": "execute_result"
    }
   ],
   "source": [
    "imodel.data.conditions"
   ]
  },
  {
   "cell_type": "code",
   "execution_count": 80,
   "id": "5d7b7787",
   "metadata": {},
   "outputs": [
    {
     "data": {
      "text/plain": [
       "{'β': DeviceArray([-1.19485962, -1.46153493, -0.30373774, ...,  0.63124044,\n",
       "              -0.40762012,  0.39962111], dtype=float64),\n",
       " 'S_Omicron_BA.2-1': DeviceArray([0., 0., 0., ..., 0., 0., 0.], dtype=float64),\n",
       " 'C_Omicron_BA.2-1': DeviceArray([0.], dtype=float64),\n",
       " 'S_Delta-3': DeviceArray([0., 0., 0., ..., 0., 0., 0.], dtype=float64),\n",
       " 'C_Delta-3': DeviceArray([0.], dtype=float64),\n",
       " 'C_ref': DeviceArray([5.], dtype=float64),\n",
       " 'α': {'p_weights_1': DeviceArray([ 1.33073845,  0.06860843, -0.93994404, -0.14075135,\n",
       "                1.03805961], dtype=float64),\n",
       "  'p_weights_2': DeviceArray([-0.8621453 ,  0.12101575,  0.38603345, -0.53469579,\n",
       "                0.07089547], dtype=float64),\n",
       "  'p_biases': DeviceArray([-0.80525932,  1.56270888,  0.14595164, -0.2757112 ,\n",
       "                0.93999988], dtype=float64)},\n",
       " 'γ_Omicron_BA.2-1': DeviceArray([0.], dtype=float64),\n",
       " 'γ_Delta-3': DeviceArray([0.], dtype=float64)}"
      ]
     },
     "execution_count": 80,
     "metadata": {},
     "output_type": "execute_result"
    }
   ],
   "source": [
    "imodel.params"
   ]
  },
  {
   "cell_type": "code",
   "execution_count": 77,
   "id": "f35f290c",
   "metadata": {},
   "outputs": [
    {
     "data": {
      "text/plain": [
       "(2224, 5807)"
      ]
     },
     "execution_count": 77,
     "metadata": {},
     "output_type": "execute_result"
    }
   ],
   "source": [
    "X_h = data.training_data['X']['Delta-3']\n",
    "X_h.shape"
   ]
  },
  {
   "cell_type": "code",
   "execution_count": 79,
   "id": "b69e91dd",
   "metadata": {},
   "outputs": [
    {
     "name": "stdout",
     "output_type": "stream",
     "text": [
      "(2224,)\n",
      "(2224, 1)\n"
     ]
    }
   ],
   "source": [
    "z_h = imodel.latent_model(imodel.get_condition_params('Delta-3'), X_h)\n",
    "print(z_h.shape)\n",
    "print(z_h[:, None].shape)"
   ]
  },
  {
   "cell_type": "code",
   "execution_count": 89,
   "id": "984d2f38",
   "metadata": {},
   "outputs": [
    {
     "data": {
      "text/plain": [
       "(2224, 5)"
      ]
     },
     "execution_count": 89,
     "metadata": {},
     "output_type": "execute_result"
    }
   ],
   "source": [
    "act = (imodel.params['α']['p_weights_1'] * z_h[:, None] + imodel.params['α']['p_biases'])\n",
    "act.shape"
   ]
  },
  {
   "cell_type": "code",
   "execution_count": 91,
   "id": "fcf493bb",
   "metadata": {},
   "outputs": [
    {
     "data": {
      "text/plain": [
       "DeviceArray([-5.61115233, -8.48810302, -7.32794333, ..., -5.61907691,\n",
       "             -2.90415721, -8.33511826], dtype=float64)"
      ]
     },
     "execution_count": 91,
     "metadata": {},
     "output_type": "execute_result"
    }
   ],
   "source": [
    "imodel.params['α']['p_weights_2'] @ act.T"
   ]
  },
  {
   "cell_type": "code",
   "execution_count": 5,
   "id": "beb250a2",
   "metadata": {},
   "outputs": [],
   "source": [
    "# func_score_df = pd.read_csv(\"Delta_BA1_BA2_func_score_df.csv\")\n",
    "\n",
    "# data = multidms.MultiDmsData(\n",
    "#     func_score_df,\n",
    "#     alphabet= multidms.AAS_WITHSTOP,\n",
    "#     condition_colimport multidms.model as model\n",
    "af = model.softplus_activation\n",
    "\n",
    "af == model.softplus_activation\n",
    "\n",
    "imodel = multidms.MultiDmsModel(data, epistatic_model=model.perceptron_global_epistasis)\n",
    "imodel\n",
    "\n",
    "imodel.data.conditions\n",
    "\n",
    "imodel.params\n",
    "\n",
    "X_h = data.training_data['X']['Delta-3']\n",
    "X_h.shape\n",
    "\n",
    "z_h = imodel.latent_model(imodel.get_condition_params('Delta-3'), X_h)\n",
    "print(z_h.shape)\n",
    "print(z_h[:, None].shape)\n",
    "\n",
    "act = (imodel.params['α']['p_weights_1'] * z_h[:, None] + imodel.params['α']['p_biases'])\n",
    "act.shape\n",
    "\n",
    "imodel.params['α']['p_weights_2'] @ act.Tors = sns.color_palette(\"Paired\"),\n",
    "#     reference=\"Delta-3\"\n",
    "# )\n",
    "\n",
    "# model = multidms.MultiDmsModel(\n",
    "#         data,\n",
    "#         epistatic_model=\"sigmoid\",\n",
    "#         output_activation=\"softplus\"\n",
    "# )\n",
    "\n",
    "# model.fit(lasso_shift=1e-5, maxiter=5000, tol=1e-6)"
   ]
  },
  {
   "cell_type": "code",
   "execution_count": 16,
   "id": "b75f660f",
   "metadata": {},
   "outputs": [],
   "source": [
    "import jax\n",
    "import pickle\n",
    "\n",
    "# @jax.jit\n",
    "def foo(x):\n",
    "    return x\n",
    "\n",
    "class bar:\n",
    "    def __init__(self, f):\n",
    "        self.f = f\n",
    "        \n",
    "    def predict(self, x):\n",
    "        return jax.jit(foo)(x)\n",
    "        \n",
    "b = bar(foo)"
   ]
  },
  {
   "cell_type": "code",
   "execution_count": 17,
   "id": "da6eede1",
   "metadata": {},
   "outputs": [],
   "source": [
    "pickle.dump(b, open(\"b.pkl\", \"wb\"))"
   ]
  },
  {
   "cell_type": "code",
   "execution_count": 18,
   "id": "7f00b89c",
   "metadata": {},
   "outputs": [],
   "source": [
    "b = pickle.load(open(\"b.pkl\", \"rb\"))"
   ]
  },
  {
   "cell_type": "code",
   "execution_count": 19,
   "id": "9cd2ceb0",
   "metadata": {},
   "outputs": [
    {
     "name": "stderr",
     "output_type": "stream",
     "text": [
      "WARNING:absl:No GPU/TPU found, falling back to CPU. (Set TF_CPP_MIN_LOG_LEVEL=0 and rerun for more info.)\n"
     ]
    },
    {
     "data": {
      "text/plain": [
       "DeviceArray(5, dtype=int32, weak_type=True)"
      ]
     },
     "execution_count": 19,
     "metadata": {},
     "output_type": "execute_result"
    }
   ],
   "source": [
    "b.predict(5)"
   ]
  },
  {
   "cell_type": "code",
   "execution_count": null,
   "id": "790f60e9",
   "metadata": {},
   "outputs": [],
   "source": []
  }
 ],
 "metadata": {
  "kernelspec": {
   "display_name": "Python 3 (ipykernel)",
   "language": "python",
   "name": "python3"
  },
  "language_info": {
   "codemirror_mode": {
    "name": "ipython",
    "version": 3
   },
   "file_extension": ".py",
   "mimetype": "text/x-python",
   "name": "python",
   "nbconvert_exporter": "python",
   "pygments_lexer": "ipython3",
   "version": "3.9.13"
  }
 },
 "nbformat": 4,
 "nbformat_minor": 5
}
