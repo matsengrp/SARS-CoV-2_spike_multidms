{
 "cells": [
  {
   "cell_type": "markdown",
   "id": "cd18d90e",
   "metadata": {},
   "source": [
    "# `multidms` example\n",
    "\n",
    "Here, we demonstrate the pipeline for fitting a `multidms` model on some data using the tools available in the package. Currently, we show how to pre-process data from various dms experiments targeting Delta and Omicron spike protein homologs."
   ]
  },
  {
   "cell_type": "code",
   "execution_count": 1,
   "id": "53fa951c",
   "metadata": {},
   "outputs": [],
   "source": [
    "# built-in libraries\n",
    "import os\n",
    "import sys\n",
    "import pickle\n",
    "from itertools import combinations\n",
    "import importlib\n",
    "import math\n",
    "import re\n",
    "from timeit import default_timer as timer\n",
    "import json\n",
    "\n",
    "# external dependencies\n",
    "import pandas as pd\n",
    "import jax\n",
    "import jax.numpy as jnp\n",
    "from jax.experimental import sparse\n",
    "from jaxopt import ProximalGradient\n",
    "import jaxopt\n",
    "import numpy as onp\n",
    "from scipy.stats import pearsonr\n",
    "import binarymap as bmap\n",
    "from tqdm.notebook import tqdm\n",
    "import matplotlib.pyplot as plt\n",
    "import seaborn as sns\n",
    "# import plotnine\n",
    "\n",
    "# local dependencies\n",
    "# sys.path.append(\"..\")\n",
    "# import multidms\n",
    "import multidms\n",
    "from multidms import Multidms, AAS_WITHSTOP"
   ]
  },
  {
   "cell_type": "markdown",
   "id": "3484460c",
   "metadata": {},
   "source": [
    "**First, we'll define a few global variables.**"
   ]
  },
  {
   "cell_type": "markdown",
   "id": "31db55e5",
   "metadata": {},
   "source": [
    "## Initialize `Multidms` Object"
   ]
  },
  {
   "cell_type": "code",
   "execution_count": 2,
   "id": "5b521df7",
   "metadata": {},
   "outputs": [
    {
     "ename": "NameError",
     "evalue": "name 'test_dict' is not defined",
     "output_type": "error",
     "traceback": [
      "\u001b[0;31m---------------------------------------------------------------------------\u001b[0m",
      "\u001b[0;31mNameError\u001b[0m                                 Traceback (most recent call last)",
      "Cell \u001b[0;32mIn [2], line 6\u001b[0m\n\u001b[1;32m      1\u001b[0m func_score_dict \u001b[38;5;241m=\u001b[39m {\n\u001b[1;32m      2\u001b[0m     \u001b[38;5;124m'\u001b[39m\u001b[38;5;124mhomolog\u001b[39m\u001b[38;5;124m'\u001b[39m : [\u001b[38;5;124m\"\u001b[39m\u001b[38;5;124m1\u001b[39m\u001b[38;5;124m\"\u001b[39m,\u001b[38;5;124m\"\u001b[39m\u001b[38;5;124m1\u001b[39m\u001b[38;5;124m\"\u001b[39m,\u001b[38;5;124m\"\u001b[39m\u001b[38;5;124m1\u001b[39m\u001b[38;5;124m\"\u001b[39m,\u001b[38;5;124m\"\u001b[39m\u001b[38;5;124m1\u001b[39m\u001b[38;5;124m\"\u001b[39m, \u001b[38;5;124m\"\u001b[39m\u001b[38;5;124m2\u001b[39m\u001b[38;5;124m\"\u001b[39m,\u001b[38;5;124m\"\u001b[39m\u001b[38;5;124m2\u001b[39m\u001b[38;5;124m\"\u001b[39m,\u001b[38;5;124m\"\u001b[39m\u001b[38;5;124m2\u001b[39m\u001b[38;5;124m\"\u001b[39m,\u001b[38;5;124m\"\u001b[39m\u001b[38;5;124m2\u001b[39m\u001b[38;5;124m\"\u001b[39m,\u001b[38;5;124m\"\u001b[39m\u001b[38;5;124m2\u001b[39m\u001b[38;5;124m\"\u001b[39m,\u001b[38;5;124m\"\u001b[39m\u001b[38;5;124m2\u001b[39m\u001b[38;5;124m\"\u001b[39m],\n\u001b[1;32m      3\u001b[0m     \u001b[38;5;124m'\u001b[39m\u001b[38;5;124mvariant\u001b[39m\u001b[38;5;124m'\u001b[39m : [\u001b[38;5;124m'\u001b[39m\u001b[38;5;124mM1E\u001b[39m\u001b[38;5;124m'\u001b[39m, \u001b[38;5;124m'\u001b[39m\u001b[38;5;124mG3R\u001b[39m\u001b[38;5;124m'\u001b[39m, \u001b[38;5;124m'\u001b[39m\u001b[38;5;124mG3P\u001b[39m\u001b[38;5;124m'\u001b[39m, \u001b[38;5;124m'\u001b[39m\u001b[38;5;124mM1W\u001b[39m\u001b[38;5;124m'\u001b[39m, \u001b[38;5;124m'\u001b[39m\u001b[38;5;124mM1E\u001b[39m\u001b[38;5;124m'\u001b[39m, \u001b[38;5;124m'\u001b[39m\u001b[38;5;124mP3R\u001b[39m\u001b[38;5;124m'\u001b[39m, \u001b[38;5;124m'\u001b[39m\u001b[38;5;124mP3G\u001b[39m\u001b[38;5;124m'\u001b[39m, \u001b[38;5;124m'\u001b[39m\u001b[38;5;124mM1E P3G\u001b[39m\u001b[38;5;124m'\u001b[39m, \u001b[38;5;124m'\u001b[39m\u001b[38;5;124mM1E P3R\u001b[39m\u001b[38;5;124m'\u001b[39m, \u001b[38;5;124m'\u001b[39m\u001b[38;5;124mP2T\u001b[39m\u001b[38;5;124m'\u001b[39m],\n\u001b[1;32m      4\u001b[0m     \u001b[38;5;124m'\u001b[39m\u001b[38;5;124mlog2E\u001b[39m\u001b[38;5;124m'\u001b[39m : [\u001b[38;5;241m2\u001b[39m, \u001b[38;5;241m-\u001b[39m\u001b[38;5;241m7\u001b[39m, \u001b[38;5;241m-\u001b[39m\u001b[38;5;241m0.5\u001b[39m, \u001b[38;5;241m2.3\u001b[39m, \u001b[38;5;241m1\u001b[39m, \u001b[38;5;241m-\u001b[39m\u001b[38;5;241m5\u001b[39m, \u001b[38;5;241m0.4\u001b[39m, \u001b[38;5;241m2.7\u001b[39m, \u001b[38;5;241m-\u001b[39m\u001b[38;5;241m2.7\u001b[39m, \u001b[38;5;241m0.3\u001b[39m],\n\u001b[1;32m      5\u001b[0m }\n\u001b[0;32m----> 6\u001b[0m func_score_df \u001b[38;5;241m=\u001b[39m pd\u001b[38;5;241m.\u001b[39mDataFrame(\u001b[43mtest_dict\u001b[49m)\n\u001b[1;32m      7\u001b[0m func_score_df\n",
      "\u001b[0;31mNameError\u001b[0m: name 'test_dict' is not defined"
     ]
    }
   ],
   "source": [
    "func_score_dict = {\n",
    "    'homolog' : [\"1\",\"1\",\"1\",\"1\", \"2\",\"2\",\"2\",\"2\",\"2\",\"2\"],\n",
    "    'variant' : ['M1E', 'G3R', 'G3P', 'M1W', 'M1E', 'P3R', 'P3G', 'M1E P3G', 'M1E P3R', 'P2T'],\n",
    "    'log2E' : [2, -7, -0.5, 2.3, 1, -5, 0.4, 2.7, -2.7, 0.3],\n",
    "}\n",
    "func_score_df = pd.DataFrame(func_score_dict)\n",
    "func_score_df"
   ]
  },
  {
   "cell_type": "code",
   "execution_count": null,
   "id": "5a57739c",
   "metadata": {},
   "outputs": [],
   "source": [
    "func_score_df.rename({\"aa_substitutions_reference\":\"aa_substitutions\"}, axis=1, inplace=True)\n",
    "func_score_df.rename({\"homolog_exp\":\"condition\"}, axis=1, inplace=True)"
   ]
  },
  {
   "cell_type": "markdown",
   "id": "d4d17942",
   "metadata": {},
   "source": [
    "## `Multidms` Object"
   ]
  },
  {
   "cell_type": "code",
   "execution_count": null,
   "id": "7032bddb",
   "metadata": {},
   "outputs": [],
   "source": [
    "func_score_df.head()"
   ]
  },
  {
   "cell_type": "code",
   "execution_count": null,
   "id": "3e0505c8",
   "metadata": {},
   "outputs": [],
   "source": [
    "# def f(x,y,z):\n",
    "#     return x + y + z\n",
    "# ans = partial()"
   ]
  },
  {
   "cell_type": "code",
   "execution_count": 20,
   "id": "279c5a9d",
   "metadata": {},
   "outputs": [],
   "source": [
    "from jax.tree_util import Partial as jax_partial\n",
    "import jaxlib\n",
    "from functools import partial as functools_partial\n",
    "from multidms.model import identity, scaled_shifted_softplus, ϕ, g\n",
    "\n",
    "# JAX Engine\n",
    "@functools_partial(jax.jit, static_argnums=(0, 1, 2,))\n",
    "def model_predict(\n",
    "    ϕ:jaxlib.xla_extension.CompiledFunction,\n",
    "    g:jaxlib.xla_extension.CompiledFunction,\n",
    "    t:jaxlib.xla_extension.CompiledFunction,\n",
    "    h_params:dict, \n",
    "    X_h:jnp.array, \n",
    "    **kwargs\n",
    "):\n",
    "    \"\"\" Biophysical model - compiled for optimization \n",
    "    until model functions ϕ, g, and t are updated.\"\"\"\n",
    "\n",
    "    return t(g(h_params['α'], ϕ(h_params, X_h)), **kwargs)"
   ]
  },
  {
   "cell_type": "code",
   "execution_count": 21,
   "id": "646407f2",
   "metadata": {},
   "outputs": [
    {
     "name": "stdout",
     "output_type": "stream",
     "text": [
      "Found 501 site(s) lacking data in at least one condition.\n",
      "882 of the 2058 variants were removed because they had mutations at the above sites, leaving 1176 variants.\n"
     ]
    },
    {
     "name": "stderr",
     "output_type": "stream",
     "text": [
      "100%|███████████████████████████████████████████████████████| 783/783 [00:04<00:00, 179.69it/s]\n",
      "WARNING:absl:No GPU/TPU found, falling back to CPU. (Set TF_CPP_MIN_LOG_LEVEL=0 and rerun for more info.)\n"
     ]
    },
    {
     "name": "stdout",
     "output_type": "stream",
     "text": [
      "There were 0 cache hits in total for condition Omicron_BA.1-2-1.\n"
     ]
    }
   ],
   "source": [
    "compiled_predict = jax_partial(model_predict, ϕ, g, identity)\n",
    "mdms = Multidms(\n",
    "    func_score_df,\n",
    "    compiled_predict,\n",
    "    alphabet= AAS_WITHSTOP,\n",
    "    reference=\"Delta-2-1\"\n",
    ")"
   ]
  },
  {
   "cell_type": "code",
   "execution_count": 22,
   "id": "10448926",
   "metadata": {},
   "outputs": [
    {
     "data": {
      "text/html": [
       "<div>\n",
       "<style scoped>\n",
       "    .dataframe tbody tr th:only-of-type {\n",
       "        vertical-align: middle;\n",
       "    }\n",
       "\n",
       "    .dataframe tbody tr th {\n",
       "        vertical-align: top;\n",
       "    }\n",
       "\n",
       "    .dataframe thead th {\n",
       "        text-align: right;\n",
       "    }\n",
       "</style>\n",
       "<table border=\"1\" class=\"dataframe\">\n",
       "  <thead>\n",
       "    <tr style=\"text-align: right;\">\n",
       "      <th></th>\n",
       "      <th>mutation</th>\n",
       "      <th>β</th>\n",
       "      <th>wts</th>\n",
       "      <th>sites</th>\n",
       "      <th>muts</th>\n",
       "      <th>times_seen</th>\n",
       "      <th>S_Delta-2-1</th>\n",
       "      <th>F_Delta-2-1</th>\n",
       "      <th>S_Omicron_BA.1-2-1</th>\n",
       "      <th>F_Omicron_BA.1-2-1</th>\n",
       "    </tr>\n",
       "  </thead>\n",
       "  <tbody>\n",
       "    <tr>\n",
       "      <th>0</th>\n",
       "      <td>V3A</td>\n",
       "      <td>-1.604560</td>\n",
       "      <td>V</td>\n",
       "      <td>3</td>\n",
       "      <td>A</td>\n",
       "      <td>1</td>\n",
       "      <td>0.0</td>\n",
       "      <td>-0.324383</td>\n",
       "      <td>0.0</td>\n",
       "      <td>-0.324383</td>\n",
       "    </tr>\n",
       "    <tr>\n",
       "      <th>1</th>\n",
       "      <td>V3I</td>\n",
       "      <td>0.434577</td>\n",
       "      <td>V</td>\n",
       "      <td>3</td>\n",
       "      <td>I</td>\n",
       "      <td>1</td>\n",
       "      <td>0.0</td>\n",
       "      <td>-0.043441</td>\n",
       "      <td>0.0</td>\n",
       "      <td>-0.043441</td>\n",
       "    </tr>\n",
       "    <tr>\n",
       "      <th>2</th>\n",
       "      <td>L5A</td>\n",
       "      <td>-1.267456</td>\n",
       "      <td>L</td>\n",
       "      <td>5</td>\n",
       "      <td>A</td>\n",
       "      <td>2</td>\n",
       "      <td>0.0</td>\n",
       "      <td>-0.233725</td>\n",
       "      <td>0.0</td>\n",
       "      <td>-0.233725</td>\n",
       "    </tr>\n",
       "    <tr>\n",
       "      <th>3</th>\n",
       "      <td>L5H</td>\n",
       "      <td>0.295835</td>\n",
       "      <td>L</td>\n",
       "      <td>5</td>\n",
       "      <td>H</td>\n",
       "      <td>1</td>\n",
       "      <td>0.0</td>\n",
       "      <td>-0.049874</td>\n",
       "      <td>0.0</td>\n",
       "      <td>-0.049874</td>\n",
       "    </tr>\n",
       "    <tr>\n",
       "      <th>4</th>\n",
       "      <td>L5I</td>\n",
       "      <td>-1.908145</td>\n",
       "      <td>L</td>\n",
       "      <td>5</td>\n",
       "      <td>I</td>\n",
       "      <td>1</td>\n",
       "      <td>0.0</td>\n",
       "      <td>-0.434445</td>\n",
       "      <td>0.0</td>\n",
       "      <td>-0.434445</td>\n",
       "    </tr>\n",
       "  </tbody>\n",
       "</table>\n",
       "</div>"
      ],
      "text/plain": [
       "  mutation         β wts  sites muts  times_seen  S_Delta-2-1  F_Delta-2-1  \\\n",
       "0      V3A -1.604560   V      3    A           1          0.0    -0.324383   \n",
       "1      V3I  0.434577   V      3    I           1          0.0    -0.043441   \n",
       "2      L5A -1.267456   L      5    A           2          0.0    -0.233725   \n",
       "3      L5H  0.295835   L      5    H           1          0.0    -0.049874   \n",
       "4      L5I -1.908145   L      5    I           1          0.0    -0.434445   \n",
       "\n",
       "   S_Omicron_BA.1-2-1  F_Omicron_BA.1-2-1  \n",
       "0                 0.0           -0.324383  \n",
       "1                 0.0           -0.043441  \n",
       "2                 0.0           -0.233725  \n",
       "3                 0.0           -0.049874  \n",
       "4                 0.0           -0.434445  "
      ]
     },
     "execution_count": 22,
     "metadata": {},
     "output_type": "execute_result"
    }
   ],
   "source": [
    "mdms.mut_df.head()"
   ]
  },
  {
   "cell_type": "code",
   "execution_count": 23,
   "id": "5dde7b39",
   "metadata": {},
   "outputs": [
    {
     "data": {
      "text/html": [
       "<div>\n",
       "<style scoped>\n",
       "    .dataframe tbody tr th:only-of-type {\n",
       "        vertical-align: middle;\n",
       "    }\n",
       "\n",
       "    .dataframe tbody tr th {\n",
       "        vertical-align: top;\n",
       "    }\n",
       "\n",
       "    .dataframe thead th {\n",
       "        text-align: right;\n",
       "    }\n",
       "</style>\n",
       "<table border=\"1\" class=\"dataframe\">\n",
       "  <thead>\n",
       "    <tr style=\"text-align: right;\">\n",
       "      <th></th>\n",
       "      <th>condition</th>\n",
       "      <th>aa_substitutions</th>\n",
       "      <th>weight</th>\n",
       "      <th>func_score</th>\n",
       "      <th>allowed_variant</th>\n",
       "      <th>var_wrt_ref</th>\n",
       "      <th>predicted_latent_phenotype</th>\n",
       "      <th>predicted_func_score</th>\n",
       "      <th>corrected_func_score</th>\n",
       "    </tr>\n",
       "  </thead>\n",
       "  <tbody>\n",
       "    <tr>\n",
       "      <th>0</th>\n",
       "      <td>Delta-2-1</td>\n",
       "      <td></td>\n",
       "      <td>80</td>\n",
       "      <td>-0.110441</td>\n",
       "      <td>True</td>\n",
       "      <td></td>\n",
       "      <td>NaN</td>\n",
       "      <td>-0.066929</td>\n",
       "      <td>-0.110441</td>\n",
       "    </tr>\n",
       "    <tr>\n",
       "      <th>1</th>\n",
       "      <td>Delta-2-1</td>\n",
       "      <td>A1020T</td>\n",
       "      <td>1</td>\n",
       "      <td>0.721500</td>\n",
       "      <td>True</td>\n",
       "      <td>A1020T</td>\n",
       "      <td>NaN</td>\n",
       "      <td>-0.017982</td>\n",
       "      <td>0.721500</td>\n",
       "    </tr>\n",
       "    <tr>\n",
       "      <th>2</th>\n",
       "      <td>Delta-2-1</td>\n",
       "      <td>A1222V</td>\n",
       "      <td>1</td>\n",
       "      <td>-0.274300</td>\n",
       "      <td>True</td>\n",
       "      <td>A1222V</td>\n",
       "      <td>NaN</td>\n",
       "      <td>-0.201145</td>\n",
       "      <td>-0.274300</td>\n",
       "    </tr>\n",
       "    <tr>\n",
       "      <th>5</th>\n",
       "      <td>Delta-2-1</td>\n",
       "      <td>A222E G614N P1079H K1191*</td>\n",
       "      <td>1</td>\n",
       "      <td>-0.359500</td>\n",
       "      <td>True</td>\n",
       "      <td>A222E G614N P1079H K1191*</td>\n",
       "      <td>NaN</td>\n",
       "      <td>-0.069151</td>\n",
       "      <td>-0.359500</td>\n",
       "    </tr>\n",
       "    <tr>\n",
       "      <th>6</th>\n",
       "      <td>Delta-2-1</td>\n",
       "      <td>A222M</td>\n",
       "      <td>1</td>\n",
       "      <td>-0.686400</td>\n",
       "      <td>True</td>\n",
       "      <td>A222M</td>\n",
       "      <td>NaN</td>\n",
       "      <td>-0.051500</td>\n",
       "      <td>-0.686400</td>\n",
       "    </tr>\n",
       "  </tbody>\n",
       "</table>\n",
       "</div>"
      ],
      "text/plain": [
       "   condition           aa_substitutions  weight  func_score  allowed_variant  \\\n",
       "0  Delta-2-1                                 80   -0.110441             True   \n",
       "1  Delta-2-1                     A1020T       1    0.721500             True   \n",
       "2  Delta-2-1                     A1222V       1   -0.274300             True   \n",
       "5  Delta-2-1  A222E G614N P1079H K1191*       1   -0.359500             True   \n",
       "6  Delta-2-1                      A222M       1   -0.686400             True   \n",
       "\n",
       "                 var_wrt_ref  predicted_latent_phenotype  \\\n",
       "0                                                    NaN   \n",
       "1                     A1020T                         NaN   \n",
       "2                     A1222V                         NaN   \n",
       "5  A222E G614N P1079H K1191*                         NaN   \n",
       "6                      A222M                         NaN   \n",
       "\n",
       "   predicted_func_score  corrected_func_score  \n",
       "0             -0.066929             -0.110441  \n",
       "1             -0.017982              0.721500  \n",
       "2             -0.201145             -0.274300  \n",
       "5             -0.069151             -0.359500  \n",
       "6             -0.051500             -0.686400  "
      ]
     },
     "execution_count": 23,
     "metadata": {},
     "output_type": "execute_result"
    }
   ],
   "source": [
    "mdms.data_to_fit.head()"
   ]
  },
  {
   "cell_type": "code",
   "execution_count": 24,
   "id": "38c8d52c",
   "metadata": {},
   "outputs": [
    {
     "data": {
      "text/plain": [
       "('Omicron_BA.1-2-1', 'Delta-2-1')"
      ]
     },
     "execution_count": 24,
     "metadata": {},
     "output_type": "execute_result"
    }
   ],
   "source": [
    "mdms.conditions"
   ]
  },
  {
   "cell_type": "code",
   "execution_count": 25,
   "id": "509b466f",
   "metadata": {},
   "outputs": [
    {
     "data": {
      "text/plain": [
       "'Delta-2-1'"
      ]
     },
     "execution_count": 25,
     "metadata": {},
     "output_type": "execute_result"
    }
   ],
   "source": [
    "mdms.reference"
   ]
  },
  {
   "cell_type": "code",
   "execution_count": 26,
   "id": "7f111753",
   "metadata": {},
   "outputs": [
    {
     "data": {
      "text/plain": [
       "{'Delta-2-1': BCOO(int8[393, 1582], nse=856),\n",
       " 'Omicron_BA.1-2-1': BCOO(int8[783, 1582], nse=16155)}"
      ]
     },
     "execution_count": 26,
     "metadata": {},
     "output_type": "execute_result"
    }
   ],
   "source": [
    "mdms.binarymaps['X']"
   ]
  },
  {
   "cell_type": "markdown",
   "id": "f7366d7c",
   "metadata": {},
   "source": [
    "## JAX Engine: Objective Function"
   ]
  },
  {
   "cell_type": "code",
   "execution_count": 27,
   "id": "e22b6678",
   "metadata": {},
   "outputs": [],
   "source": [
    "@jax.jit\n",
    "def prox(\n",
    "    params, \n",
    "    hyperparams_prox=dict(\n",
    "        lasso_params=None, \n",
    "        lock_params=None,\n",
    "    ), \n",
    "    scaling=1.0\n",
    "):\n",
    "    \n",
    "    # Monotonic non-linearity, if non-linear model\n",
    "    if \"α\" in params:\n",
    "        params[\"α\"][\"ge_scale\"] = params[\"α\"][\"ge_scale\"].clip(0)\n",
    "    \n",
    "    if hyperparams_prox[\"lasso_params\"] is not None:\n",
    "        for key, value in hyperparams_prox[\"lasso_params\"].items():\n",
    "            params[key] = jaxopt.prox.prox_lasso(params[key], value, scaling)\n",
    "\n",
    "    # Any params to constrain during fit\n",
    "    if hyperparams_prox[\"lock_params\"] is not None:\n",
    "        for key, value in hyperparams_prox[\"lock_params\"].items():\n",
    "            params[key] = value\n",
    "\n",
    "    return params\n",
    "\n",
    "\n",
    "@functools_partial(jax.jit, static_argnums=(0,))\n",
    "def cost_smooth(f, params, data, δ=1, λ_ridge=0, **kwargs):\n",
    "    \"\"\"Cost (Objective) function summed across all homologs\"\"\"\n",
    "\n",
    "    X, y = data\n",
    "    loss = 0   \n",
    "    \n",
    "    # Sum the huber loss across all homologs\n",
    "    for homolog, X_h in X.items():   \n",
    "        \n",
    "        # Subset the params for homolog-specific prediction\n",
    "        h_params = {\n",
    "            \"α\":params[\"α\"],\n",
    "            \"β\":params[\"β\"], \n",
    "            \"C_ref\":params[\"C_ref\"],\n",
    "            \"S\":params[f\"S_{homolog}\"], \n",
    "            \"C\":params[f\"C_{homolog}\"],\n",
    "        }\n",
    "       \n",
    "        # compute predictions \n",
    "        y_h_predicted = f(h_params, X_h, **kwargs)\n",
    "        \n",
    "        # compute the Huber loss between observed and predicted\n",
    "        # functional scores\n",
    "        loss += jaxopt.loss.huber_loss(\n",
    "            y[homolog] + params[f\"γ_{homolog}\"], y_h_predicted, δ\n",
    "        ).mean()\n",
    "        \n",
    "        # compute a regularization term that penalizes non-zero\n",
    "        # shift parameters and add it to the loss function\n",
    "        ridge_penalty = λ_ridge * (params[f\"S_{homolog}\"] ** 2).sum()\n",
    "        loss += ridge_penalty\n",
    "\n",
    "    return loss"
   ]
  },
  {
   "cell_type": "code",
   "execution_count": 28,
   "id": "ed91f16c",
   "metadata": {},
   "outputs": [
    {
     "name": "stdout",
     "output_type": "stream",
     "text": [
      "1.4350489447079537\n"
     ]
    }
   ],
   "source": [
    "compiled_cost = jax_partial(cost_smooth, compiled_predict)\n",
    "data = (mdms.binarymaps['X'], mdms.binarymaps['y'])\n",
    "print(compiled_cost(mdms.params, data))"
   ]
  },
  {
   "cell_type": "code",
   "execution_count": 29,
   "id": "4fa162ff",
   "metadata": {
    "scrolled": false
   },
   "outputs": [
    {
     "name": "stdout",
     "output_type": "stream",
     "text": [
      "0.09388914704164272\n"
     ]
    }
   ],
   "source": [
    "mdms.fit(compiled_cost, prox)\n",
    "print(compiled_cost(mdms.params, data))"
   ]
  },
  {
   "cell_type": "code",
   "execution_count": 30,
   "id": "d549a5cc",
   "metadata": {},
   "outputs": [
    {
     "data": {
      "text/html": [
       "<div>\n",
       "<style scoped>\n",
       "    .dataframe tbody tr th:only-of-type {\n",
       "        vertical-align: middle;\n",
       "    }\n",
       "\n",
       "    .dataframe tbody tr th {\n",
       "        vertical-align: top;\n",
       "    }\n",
       "\n",
       "    .dataframe thead th {\n",
       "        text-align: right;\n",
       "    }\n",
       "</style>\n",
       "<table border=\"1\" class=\"dataframe\">\n",
       "  <thead>\n",
       "    <tr style=\"text-align: right;\">\n",
       "      <th></th>\n",
       "      <th>mutation</th>\n",
       "      <th>β</th>\n",
       "      <th>wts</th>\n",
       "      <th>sites</th>\n",
       "      <th>muts</th>\n",
       "      <th>times_seen</th>\n",
       "      <th>S_Delta-2-1</th>\n",
       "      <th>F_Delta-2-1</th>\n",
       "      <th>S_Omicron_BA.1-2-1</th>\n",
       "      <th>F_Omicron_BA.1-2-1</th>\n",
       "    </tr>\n",
       "  </thead>\n",
       "  <tbody>\n",
       "    <tr>\n",
       "      <th>0</th>\n",
       "      <td>V3A</td>\n",
       "      <td>-0.645865</td>\n",
       "      <td>V</td>\n",
       "      <td>3</td>\n",
       "      <td>A</td>\n",
       "      <td>1</td>\n",
       "      <td>0.0</td>\n",
       "      <td>-0.933695</td>\n",
       "      <td>0.000000</td>\n",
       "      <td>-0.933695</td>\n",
       "    </tr>\n",
       "    <tr>\n",
       "      <th>1</th>\n",
       "      <td>V3I</td>\n",
       "      <td>-0.218521</td>\n",
       "      <td>V</td>\n",
       "      <td>3</td>\n",
       "      <td>I</td>\n",
       "      <td>1</td>\n",
       "      <td>0.0</td>\n",
       "      <td>-0.539380</td>\n",
       "      <td>-0.440457</td>\n",
       "      <td>-0.946310</td>\n",
       "    </tr>\n",
       "    <tr>\n",
       "      <th>2</th>\n",
       "      <td>L5A</td>\n",
       "      <td>0.493328</td>\n",
       "      <td>L</td>\n",
       "      <td>5</td>\n",
       "      <td>A</td>\n",
       "      <td>2</td>\n",
       "      <td>0.0</td>\n",
       "      <td>-0.003065</td>\n",
       "      <td>0.140090</td>\n",
       "      <td>0.080669</td>\n",
       "    </tr>\n",
       "    <tr>\n",
       "      <th>3</th>\n",
       "      <td>L5H</td>\n",
       "      <td>1.488686</td>\n",
       "      <td>L</td>\n",
       "      <td>5</td>\n",
       "      <td>H</td>\n",
       "      <td>1</td>\n",
       "      <td>0.0</td>\n",
       "      <td>0.446821</td>\n",
       "      <td>1.229238</td>\n",
       "      <td>0.673836</td>\n",
       "    </tr>\n",
       "    <tr>\n",
       "      <th>4</th>\n",
       "      <td>L5I</td>\n",
       "      <td>-0.521430</td>\n",
       "      <td>L</td>\n",
       "      <td>5</td>\n",
       "      <td>I</td>\n",
       "      <td>1</td>\n",
       "      <td>0.0</td>\n",
       "      <td>-0.815158</td>\n",
       "      <td>1.166527</td>\n",
       "      <td>0.087321</td>\n",
       "    </tr>\n",
       "    <tr>\n",
       "      <th>...</th>\n",
       "      <td>...</td>\n",
       "      <td>...</td>\n",
       "      <td>...</td>\n",
       "      <td>...</td>\n",
       "      <td>...</td>\n",
       "      <td>...</td>\n",
       "      <td>...</td>\n",
       "      <td>...</td>\n",
       "      <td>...</td>\n",
       "      <td>...</td>\n",
       "    </tr>\n",
       "    <tr>\n",
       "      <th>1577</th>\n",
       "      <td>S1252Q</td>\n",
       "      <td>-2.050120</td>\n",
       "      <td>S</td>\n",
       "      <td>1252</td>\n",
       "      <td>Q</td>\n",
       "      <td>1</td>\n",
       "      <td>0.0</td>\n",
       "      <td>-2.192824</td>\n",
       "      <td>-1.558008</td>\n",
       "      <td>-2.885626</td>\n",
       "    </tr>\n",
       "    <tr>\n",
       "      <th>1578</th>\n",
       "      <td>S1252R</td>\n",
       "      <td>-0.171221</td>\n",
       "      <td>S</td>\n",
       "      <td>1252</td>\n",
       "      <td>R</td>\n",
       "      <td>1</td>\n",
       "      <td>0.0</td>\n",
       "      <td>-0.498438</td>\n",
       "      <td>-0.189141</td>\n",
       "      <td>-0.665837</td>\n",
       "    </tr>\n",
       "    <tr>\n",
       "      <th>1579</th>\n",
       "      <td>S1252T</td>\n",
       "      <td>-2.029232</td>\n",
       "      <td>S</td>\n",
       "      <td>1252</td>\n",
       "      <td>T</td>\n",
       "      <td>2</td>\n",
       "      <td>0.0</td>\n",
       "      <td>-2.177880</td>\n",
       "      <td>0.000000</td>\n",
       "      <td>-2.177880</td>\n",
       "    </tr>\n",
       "    <tr>\n",
       "      <th>1580</th>\n",
       "      <td>S1252V</td>\n",
       "      <td>-0.498258</td>\n",
       "      <td>S</td>\n",
       "      <td>1252</td>\n",
       "      <td>V</td>\n",
       "      <td>1</td>\n",
       "      <td>0.0</td>\n",
       "      <td>-0.793358</td>\n",
       "      <td>0.759045</td>\n",
       "      <td>-0.158280</td>\n",
       "    </tr>\n",
       "    <tr>\n",
       "      <th>1581</th>\n",
       "      <td>S1252Y</td>\n",
       "      <td>2.446602</td>\n",
       "      <td>S</td>\n",
       "      <td>1252</td>\n",
       "      <td>Y</td>\n",
       "      <td>1</td>\n",
       "      <td>0.0</td>\n",
       "      <td>0.642975</td>\n",
       "      <td>2.072414</td>\n",
       "      <td>0.759043</td>\n",
       "    </tr>\n",
       "  </tbody>\n",
       "</table>\n",
       "<p>1582 rows × 10 columns</p>\n",
       "</div>"
      ],
      "text/plain": [
       "     mutation         β wts  sites muts  times_seen  S_Delta-2-1  F_Delta-2-1  \\\n",
       "0         V3A -0.645865   V      3    A           1          0.0    -0.933695   \n",
       "1         V3I -0.218521   V      3    I           1          0.0    -0.539380   \n",
       "2         L5A  0.493328   L      5    A           2          0.0    -0.003065   \n",
       "3         L5H  1.488686   L      5    H           1          0.0     0.446821   \n",
       "4         L5I -0.521430   L      5    I           1          0.0    -0.815158   \n",
       "...       ...       ...  ..    ...  ...         ...          ...          ...   \n",
       "1577   S1252Q -2.050120   S   1252    Q           1          0.0    -2.192824   \n",
       "1578   S1252R -0.171221   S   1252    R           1          0.0    -0.498438   \n",
       "1579   S1252T -2.029232   S   1252    T           2          0.0    -2.177880   \n",
       "1580   S1252V -0.498258   S   1252    V           1          0.0    -0.793358   \n",
       "1581   S1252Y  2.446602   S   1252    Y           1          0.0     0.642975   \n",
       "\n",
       "      S_Omicron_BA.1-2-1  F_Omicron_BA.1-2-1  \n",
       "0               0.000000           -0.933695  \n",
       "1              -0.440457           -0.946310  \n",
       "2               0.140090            0.080669  \n",
       "3               1.229238            0.673836  \n",
       "4               1.166527            0.087321  \n",
       "...                  ...                 ...  \n",
       "1577           -1.558008           -2.885626  \n",
       "1578           -0.189141           -0.665837  \n",
       "1579            0.000000           -2.177880  \n",
       "1580            0.759045           -0.158280  \n",
       "1581            2.072414            0.759043  \n",
       "\n",
       "[1582 rows x 10 columns]"
      ]
     },
     "execution_count": 30,
     "metadata": {},
     "output_type": "execute_result"
    }
   ],
   "source": [
    "mdms.mut_df"
   ]
  }
 ],
 "metadata": {
  "kernelspec": {
   "display_name": "Python 3 (ipykernel)",
   "language": "python",
   "name": "python3"
  },
  "language_info": {
   "codemirror_mode": {
    "name": "ipython",
    "version": 3
   },
   "file_extension": ".py",
   "mimetype": "text/x-python",
   "name": "python",
   "nbconvert_exporter": "python",
   "pygments_lexer": "ipython3",
   "version": "3.9.13"
  }
 },
 "nbformat": 4,
 "nbformat_minor": 5
}
