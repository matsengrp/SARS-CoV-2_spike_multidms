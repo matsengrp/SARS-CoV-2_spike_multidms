{
 "cells": [
  {
   "cell_type": "markdown",
   "id": "cd18d90e",
   "metadata": {},
   "source": [
    "# $C_{h}$ Models & No Barcode Collapsing"
   ]
  },
  {
   "cell_type": "markdown",
   "id": "4b644caf",
   "metadata": {},
   "source": [
    "Note, this was run with [this version](https://github.com/matsengrp/multidms/tree/326b036602d58f071c61372f14215d195dee23a3) of `multidms`"
   ]
  },
  {
   "cell_type": "markdown",
   "id": "ad1521ca",
   "metadata": {},
   "source": [
    "**Set the visible devices for GPU training**"
   ]
  },
  {
   "cell_type": "code",
   "execution_count": 1,
   "id": "b89bd80b",
   "metadata": {},
   "outputs": [
    {
     "name": "stdout",
     "output_type": "stream",
     "text": [
      "env: CUDA_VISIBLE_DEVICES=0\n"
     ]
    }
   ],
   "source": [
    "%env CUDA_VISIBLE_DEVICES=0"
   ]
  },
  {
   "cell_type": "code",
   "execution_count": 2,
   "id": "53fa951c",
   "metadata": {},
   "outputs": [],
   "source": [
    "# built-in libraries\n",
    "import os\n",
    "import sys\n",
    "from itertools import combinations\n",
    "from collections import defaultdict\n",
    "import time\n",
    "import pprint\n",
    "import copy\n",
    "import pickle\n",
    "from functools import reduce\n",
    "\n",
    "# external dependencies\n",
    "import pandas as pd\n",
    "import seaborn as sns\n",
    "from scipy.stats import pearsonr\n",
    "import matplotlib.pyplot as plt\n",
    "import matplotlib.patches as patches\n",
    "import numpy as onp\n",
    "from tqdm.notebook import tqdm\n",
    "import jax.numpy as jnp\n",
    "\n",
    "import multidms"
   ]
  },
  {
   "cell_type": "code",
   "execution_count": 4,
   "id": "3dd09ebb",
   "metadata": {},
   "outputs": [],
   "source": [
    "OUTDIR = \"results/ch/\"\n",
    "if not os.path.exists(OUTDIR): os.mkdir(OUTDIR)"
   ]
  },
  {
   "cell_type": "markdown",
   "id": "46f8e5e1",
   "metadata": {},
   "source": [
    "**Read in the dms data and list all available experimental conditions**"
   ]
  },
  {
   "cell_type": "code",
   "execution_count": 5,
   "id": "54475df2",
   "metadata": {},
   "outputs": [
    {
     "data": {
      "text/html": [
       "<div>\n",
       "<style scoped>\n",
       "    .dataframe tbody tr th:only-of-type {\n",
       "        vertical-align: middle;\n",
       "    }\n",
       "\n",
       "    .dataframe tbody tr th {\n",
       "        vertical-align: top;\n",
       "    }\n",
       "\n",
       "    .dataframe thead th {\n",
       "        text-align: right;\n",
       "    }\n",
       "</style>\n",
       "<table border=\"1\" class=\"dataframe\">\n",
       "  <thead>\n",
       "    <tr style=\"text-align: right;\">\n",
       "      <th></th>\n",
       "      <th>func_score</th>\n",
       "      <th>aa_substitutions</th>\n",
       "      <th>condition</th>\n",
       "    </tr>\n",
       "  </thead>\n",
       "  <tbody>\n",
       "    <tr>\n",
       "      <th>0</th>\n",
       "      <td>-0.9244</td>\n",
       "      <td>R214G N439- A846H L1244-</td>\n",
       "      <td>Delta-1</td>\n",
       "    </tr>\n",
       "    <tr>\n",
       "      <th>1</th>\n",
       "      <td>0.4364</td>\n",
       "      <td>L10V G75D Y449N R682W A829S A1020D V1228E</td>\n",
       "      <td>Delta-1</td>\n",
       "    </tr>\n",
       "    <tr>\n",
       "      <th>2</th>\n",
       "      <td>-1.8556</td>\n",
       "      <td>P25S Y365H A771N S813P</td>\n",
       "      <td>Delta-1</td>\n",
       "    </tr>\n",
       "    <tr>\n",
       "      <th>3</th>\n",
       "      <td>-0.0470</td>\n",
       "      <td>R681S</td>\n",
       "      <td>Delta-1</td>\n",
       "    </tr>\n",
       "    <tr>\n",
       "      <th>4</th>\n",
       "      <td>1.2236</td>\n",
       "      <td>V70N S98G V143I</td>\n",
       "      <td>Delta-1</td>\n",
       "    </tr>\n",
       "    <tr>\n",
       "      <th>...</th>\n",
       "      <td>...</td>\n",
       "      <td>...</td>\n",
       "      <td>...</td>\n",
       "    </tr>\n",
       "    <tr>\n",
       "      <th>999050</th>\n",
       "      <td>-3.5000</td>\n",
       "      <td>K182R N405L S408* T941S D1163Y</td>\n",
       "      <td>Omicron_BA2-2</td>\n",
       "    </tr>\n",
       "    <tr>\n",
       "      <th>999051</th>\n",
       "      <td>-0.7129</td>\n",
       "      <td>P82S S112T D138T K1038N</td>\n",
       "      <td>Omicron_BA2-2</td>\n",
       "    </tr>\n",
       "    <tr>\n",
       "      <th>999052</th>\n",
       "      <td>-0.8500</td>\n",
       "      <td>L179P A222T G261H N405D</td>\n",
       "      <td>Omicron_BA2-2</td>\n",
       "    </tr>\n",
       "    <tr>\n",
       "      <th>999053</th>\n",
       "      <td>-2.3933</td>\n",
       "      <td>S27F G413E</td>\n",
       "      <td>Omicron_BA2-2</td>\n",
       "    </tr>\n",
       "    <tr>\n",
       "      <th>999054</th>\n",
       "      <td>0.6685</td>\n",
       "      <td>A222V S1242I</td>\n",
       "      <td>Omicron_BA2-2</td>\n",
       "    </tr>\n",
       "  </tbody>\n",
       "</table>\n",
       "<p>999055 rows × 3 columns</p>\n",
       "</div>"
      ],
      "text/plain": [
       "        func_score                           aa_substitutions      condition\n",
       "0          -0.9244                   R214G N439- A846H L1244-        Delta-1\n",
       "1           0.4364  L10V G75D Y449N R682W A829S A1020D V1228E        Delta-1\n",
       "2          -1.8556                     P25S Y365H A771N S813P        Delta-1\n",
       "3          -0.0470                                      R681S        Delta-1\n",
       "4           1.2236                            V70N S98G V143I        Delta-1\n",
       "...            ...                                        ...            ...\n",
       "999050     -3.5000             K182R N405L S408* T941S D1163Y  Omicron_BA2-2\n",
       "999051     -0.7129                    P82S S112T D138T K1038N  Omicron_BA2-2\n",
       "999052     -0.8500                    L179P A222T G261H N405D  Omicron_BA2-2\n",
       "999053     -2.3933                                 S27F G413E  Omicron_BA2-2\n",
       "999054      0.6685                               A222V S1242I  Omicron_BA2-2\n",
       "\n",
       "[999055 rows x 3 columns]"
      ]
     },
     "execution_count": 5,
     "metadata": {},
     "output_type": "execute_result"
    }
   ],
   "source": [
    "func_score_df = pd.read_csv(\"prepped_func_scores.csv\").fillna(\"\")\n",
    "func_score_df"
   ]
  },
  {
   "cell_type": "code",
   "execution_count": 6,
   "id": "e5d4ff9a",
   "metadata": {},
   "outputs": [
    {
     "data": {
      "text/plain": [
       "array(['Delta-1', 'Delta-2', 'Delta-3', 'Delta-4', 'Omicron_BA1-1',\n",
       "       'Omicron_BA1-2', 'Omicron_BA1-3', 'Omicron_BA2-1', 'Omicron_BA2-2'],\n",
       "      dtype=object)"
      ]
     },
     "execution_count": 6,
     "metadata": {},
     "output_type": "execute_result"
    }
   ],
   "source": [
    "func_score_df.condition.unique()"
   ]
  },
  {
   "cell_type": "markdown",
   "id": "b6b94c54",
   "metadata": {},
   "source": [
    "## Generate Replicate Datasets"
   ]
  },
  {
   "cell_type": "markdown",
   "id": "aa718c16",
   "metadata": {},
   "source": [
    "**To analyze multiple datasets, we store the data object along with it's defining features in a dataframe.**"
   ]
  },
  {
   "cell_type": "code",
   "execution_count": 7,
   "id": "01c7ffc0",
   "metadata": {},
   "outputs": [],
   "source": [
    "datasets = []"
   ]
  },
  {
   "cell_type": "markdown",
   "id": "016a81aa",
   "metadata": {},
   "source": [
    "**Choose the libraries you would like in each of the two replicates**"
   ]
  },
  {
   "cell_type": "code",
   "execution_count": 8,
   "id": "dc50b872",
   "metadata": {},
   "outputs": [],
   "source": [
    "rep1_name_map = {\n",
    "    \"Delta-2\":\"Delta\", \n",
    "    \"Omicron_BA1-2\":\"Omicron_BA1\",\n",
    "    \"Omicron_BA2-1\":\"Omicron_BA2\"\n",
    "}\n",
    "fs_rep1 = func_score_df.query(\"condition in @rep1_name_map.keys()\").copy()\n",
    "fs_rep1[\"condition\"] = fs_rep1.condition.replace(rep1_name_map)\n",
    "\n",
    "rep2_name_map = {\n",
    "    \"Delta-4\":\"Delta\", \n",
    "    \"Omicron_BA1-3\":\"Omicron_BA1\",\n",
    "    \"Omicron_BA2-2\":\"Omicron_BA2\"\n",
    "}\n",
    "fs_rep2 = func_score_df.query(\"condition in @rep2_name_map.keys()\").copy()\n",
    "fs_rep2[\"condition\"] = fs_rep2.condition.replace(rep2_name_map)"
   ]
  },
  {
   "cell_type": "markdown",
   "id": "10a940c0",
   "metadata": {},
   "source": [
    "**Initialize replicate `MultiDmsData` objects**"
   ]
  },
  {
   "cell_type": "code",
   "execution_count": 9,
   "id": "9f2ce8ae",
   "metadata": {},
   "outputs": [
    {
     "name": "stdout",
     "output_type": "stream",
     "text": [
      "inferring site map for Delta\n",
      "inferring site map for Omicron_BA1\n",
      "inferring site map for Omicron_BA2\n",
      "INFO: Pandarallel will run on 8 workers.\n",
      "INFO: Pandarallel will use Memory file system to transfer data between the main process and workers.\n",
      "Converting mutations for Delta\n"
     ]
    },
    {
     "data": {
      "application/vnd.jupyter.widget-view+json": {
       "model_id": "0f5a8f8ec6dc41e1a263595158f36d2a",
       "version_major": 2,
       "version_minor": 0
      },
      "text/plain": [
       "VBox(children=(HBox(children=(IntProgress(value=0, description='0.00%', max=3331), Label(value='0 / 3331'))), …"
      ]
     },
     "metadata": {},
     "output_type": "display_data"
    },
    {
     "name": "stdout",
     "output_type": "stream",
     "text": [
      "Converting mutations for Omicron_BA1\n",
      "is reference, skipping\n",
      "Converting mutations for Omicron_BA2\n"
     ]
    },
    {
     "data": {
      "application/vnd.jupyter.widget-view+json": {
       "model_id": "18ba60036c4b4700a96c96f7fe72daf7",
       "version_major": 2,
       "version_minor": 0
      },
      "text/plain": [
       "VBox(children=(HBox(children=(IntProgress(value=0, description='0.00%', max=6925), Label(value='0 / 6925'))), …"
      ]
     },
     "metadata": {},
     "output_type": "display_data"
    },
    {
     "name": "stdout",
     "output_type": "stream",
     "text": [
      "Finished, time: 41\n",
      "inferring site map for Delta\n",
      "inferring site map for Omicron_BA1\n",
      "inferring site map for Omicron_BA2\n",
      "INFO: Pandarallel will run on 8 workers.\n",
      "INFO: Pandarallel will use Memory file system to transfer data between the main process and workers.\n",
      "Converting mutations for Delta\n"
     ]
    },
    {
     "data": {
      "application/vnd.jupyter.widget-view+json": {
       "model_id": "1e62baf3f854423d8f7745d71c55dcea",
       "version_major": 2,
       "version_minor": 0
      },
      "text/plain": [
       "VBox(children=(HBox(children=(IntProgress(value=0, description='0.00%', max=3407), Label(value='0 / 3407'))), …"
      ]
     },
     "metadata": {},
     "output_type": "display_data"
    },
    {
     "name": "stdout",
     "output_type": "stream",
     "text": [
      "Converting mutations for Omicron_BA1\n",
      "is reference, skipping\n",
      "Converting mutations for Omicron_BA2\n"
     ]
    },
    {
     "data": {
      "application/vnd.jupyter.widget-view+json": {
       "model_id": "20758522f04c42afaf656041a58a5312",
       "version_major": 2,
       "version_minor": 0
      },
      "text/plain": [
       "VBox(children=(HBox(children=(IntProgress(value=0, description='0.00%', max=6638), Label(value='0 / 6638'))), …"
      ]
     },
     "metadata": {},
     "output_type": "display_data"
    },
    {
     "name": "stdout",
     "output_type": "stream",
     "text": [
      "Finished, time: 39\n"
     ]
    }
   ],
   "source": [
    "for rep_fsdf in [fs_rep1, fs_rep2]:       \n",
    "\n",
    "    start = time.time()\n",
    "\n",
    "    # initialize data object\n",
    "    data = multidms.MultiDmsData(\n",
    "        rep_fsdf,\n",
    "        collapse_identical_variants=False,\n",
    "        alphabet=multidms.AAS_WITHSTOP_WITHGAP,\n",
    "        reference=\"Omicron_BA1\",\n",
    "        assert_site_integrity=False,\n",
    "        verbose=True,\n",
    "        nb_workers=8 \n",
    "    )\n",
    "\n",
    "    end = time.time()\n",
    "    prep_time = round(end-start)\n",
    "    print(f\"Finished, time: {prep_time}\")\n",
    "\n",
    "    datasets.append(data)"
   ]
  },
  {
   "cell_type": "markdown",
   "id": "f76ad179",
   "metadata": {},
   "source": [
    "**Change the datasets colors - the only mutible thing about `MultiDmsData` Objects**"
   ]
  },
  {
   "cell_type": "code",
   "execution_count": 10,
   "id": "cc25fb48",
   "metadata": {},
   "outputs": [],
   "source": [
    "import matplotlib.colors as colors\n",
    "\n",
    "palette = [\n",
    "    '#F97306',#, '#FFA500',\n",
    "    '#BFBFBF',#,'#404040', \n",
    "    '#9400D3'#, '#EE82EE',\n",
    "]\n",
    "\n",
    "conditions = [\n",
    "    \"Delta\",# \"Delta-3\",\n",
    "    \"Omicron_BA1\",# \"Omicron_BA.1-3\",\n",
    "    \"Omicron_BA2\"#, \"Omicron_BA.2-2\"\n",
    "]\n",
    "# cc = {con:tuple(colors.to_rgb(col)) for con, col in zip(conditions, palette)}\n",
    "cc = {con:col for con, col in zip(conditions, palette)}\n",
    "\n",
    "\n",
    "for data in datasets:\n",
    "    data.condition_colors = cc"
   ]
  },
  {
   "cell_type": "code",
   "execution_count": 12,
   "id": "56cda88a",
   "metadata": {
    "scrolled": true
   },
   "outputs": [
    {
     "name": "stdout",
     "output_type": "stream",
     "text": [
      "running:\n",
      "{'PRNGKey': 0,\n",
      " 'conditional_c': True,\n",
      " 'data_idx': 0,\n",
      " 'dataset': <multidms.data.MultiDmsData object at 0x7f1968fb1850>,\n",
      " 'epistatic_model': 'Sigmoid',\n",
      " 'gamma_corrected': False,\n",
      " 'init_C_ref': 0.0,\n",
      " 'iterations_per_step': 1000,\n",
      " 'lock_C_ref': False,\n",
      " 'lock_beta': False,\n",
      " 'num_training_steps': 20,\n",
      " 'output_activation': 'Softplus',\n",
      " 'save_model_at': [20000],\n",
      " 'step_loss': array([0., 0., 0., 0., 0., 0., 0., 0., 0., 0., 0., 0., 0., 0., 0., 0., 0.,\n",
      "       0., 0., 0.]),\n",
      " 'tol': 1e-06,\n",
      " 'warmup_beta': False,\n",
      " 'δ_huber': 1,\n",
      " 'λ_lasso_shift': 5e-05,\n",
      " 'λ_ridge_beta': 0,\n",
      " 'λ_ridge_gamma': 0,\n",
      " 'λ_ridge_shift': 0}\n",
      "training_step 0/20, Loss: 1.0662709917820212, Time: 23 Seconds\n",
      "training_step 1/20, Loss: 0.9093957059327437, Time: 17 Seconds\n",
      "training_step 2/20, Loss: 0.8531259172399092, Time: 17 Seconds\n",
      "training_step 3/20, Loss: 0.8302937789791355, Time: 17 Seconds\n",
      "training_step 4/20, Loss: 0.816290868916998, Time: 17 Seconds\n",
      "training_step 5/20, Loss: 0.8062564028259895, Time: 17 Seconds\n",
      "training_step 6/20, Loss: 0.7976042837992258, Time: 17 Seconds\n",
      "training_step 7/20, Loss: 0.7877617835758319, Time: 17 Seconds\n",
      "training_step 8/20, Loss: 0.7800029043825034, Time: 17 Seconds\n",
      "training_step 9/20, Loss: 0.7751136058011042, Time: 17 Seconds\n",
      "training_step 10/20, Loss: 0.7707833805811489, Time: 17 Seconds\n",
      "training_step 11/20, Loss: 0.7672278817299644, Time: 17 Seconds\n",
      "training_step 12/20, Loss: 0.7642780504224359, Time: 17 Seconds\n",
      "training_step 13/20, Loss: 0.7617942373340935, Time: 17 Seconds\n",
      "training_step 14/20, Loss: 0.7595869707782303, Time: 17 Seconds\n",
      "training_step 15/20, Loss: 0.757608398902386, Time: 17 Seconds\n",
      "training_step 16/20, Loss: 0.7557580562263964, Time: 17 Seconds\n",
      "training_step 17/20, Loss: 0.753760493312322, Time: 17 Seconds\n",
      "training_step 18/20, Loss: 0.7516998528137485, Time: 17 Seconds\n",
      "training_step 19/20, Loss: 0.7491572176117117, Time: 17 Seconds\n",
      "Done with 1/10! Total time: 349\n",
      "------------------------------------------\n",
      "running:\n",
      "{'PRNGKey': 0,\n",
      " 'conditional_c': True,\n",
      " 'data_idx': 0,\n",
      " 'dataset': <multidms.data.MultiDmsData object at 0x7f1977c1cd10>,\n",
      " 'epistatic_model': 'Sigmoid',\n",
      " 'gamma_corrected': False,\n",
      " 'init_C_ref': 0.0,\n",
      " 'iterations_per_step': 1000,\n",
      " 'lock_C_ref': False,\n",
      " 'lock_beta': False,\n",
      " 'num_training_steps': 20,\n",
      " 'output_activation': 'Softplus',\n",
      " 'save_model_at': [20000],\n",
      " 'step_loss': array([0., 0., 0., 0., 0., 0., 0., 0., 0., 0., 0., 0., 0., 0., 0., 0., 0.,\n",
      "       0., 0., 0.]),\n",
      " 'tol': 1e-06,\n",
      " 'warmup_beta': False,\n",
      " 'δ_huber': 1,\n",
      " 'λ_lasso_shift': 5e-05,\n",
      " 'λ_ridge_beta': 0,\n",
      " 'λ_ridge_gamma': 0,\n",
      " 'λ_ridge_shift': 0}\n",
      "training_step 0/20, Loss: 1.0476490428159864, Time: 21 Seconds\n",
      "training_step 1/20, Loss: 0.9010490463518291, Time: 17 Seconds\n",
      "training_step 2/20, Loss: 0.8433953436416262, Time: 17 Seconds\n",
      "training_step 3/20, Loss: 0.8176992829420009, Time: 17 Seconds\n",
      "training_step 4/20, Loss: 0.8018018810187454, Time: 17 Seconds\n",
      "training_step 5/20, Loss: 0.7863977468071538, Time: 17 Seconds\n",
      "training_step 6/20, Loss: 0.7740469688365831, Time: 17 Seconds\n",
      "training_step 7/20, Loss: 0.767278584737221, Time: 17 Seconds\n",
      "training_step 8/20, Loss: 0.7611459000974764, Time: 17 Seconds\n",
      "training_step 9/20, Loss: 0.7565069987804599, Time: 17 Seconds\n",
      "training_step 10/20, Loss: 0.7527439114142436, Time: 17 Seconds\n",
      "training_step 11/20, Loss: 0.7496586893063294, Time: 17 Seconds\n",
      "training_step 12/20, Loss: 0.7469605265065183, Time: 17 Seconds\n",
      "training_step 13/20, Loss: 0.7445846421988633, Time: 17 Seconds\n",
      "training_step 14/20, Loss: 0.7421557007113225, Time: 17 Seconds\n",
      "training_step 15/20, Loss: 0.7397440325255951, Time: 17 Seconds\n",
      "training_step 16/20, Loss: 0.7367878617695228, Time: 17 Seconds\n",
      "training_step 17/20, Loss: 0.7345775158558694, Time: 17 Seconds\n",
      "training_step 18/20, Loss: 0.7328940754700273, Time: 17 Seconds\n",
      "training_step 19/20, Loss: 0.7315058027561501, Time: 17 Seconds\n",
      "Done with 2/10! Total time: 340\n",
      "------------------------------------------\n"
     ]
    }
   ],
   "source": [
    "models = pd.DataFrame()\n",
    "fit_iter = 0\n",
    "# shrinkage_sweep = [1e-07, 1e-06, 1e-05, 2e-05, 5e-05, 0.0001, 0.0005, 0.001]\n",
    "shrinkage_sweep = [5e-05]\n",
    "# shrinkage_sweep = [0.001]\n",
    "\n",
    "for lasso in shrinkage_sweep:\n",
    "    for replicate, dataset in enumerate(datasets):\n",
    "\n",
    "        fit_params = {\n",
    "            'init_C_ref' : 0.0,\n",
    "            'epistatic_model' : \"Sigmoid\",\n",
    "            'output_activation' : \"Softplus\",\n",
    "            'warmup_beta':False,\n",
    "            'gamma_corrected':False,\n",
    "            'conditional_c': True,\n",
    "            'λ_lasso_shift':lasso,\n",
    "            'λ_ridge_beta':0,\n",
    "            'λ_ridge_shift':0,\n",
    "#             'λ_ridge_gamma':1e-3,\n",
    "            'tol':1e-6,\n",
    "            'save_model_at':[20000],\n",
    "            'num_training_steps': 20,\n",
    "            'iterations_per_step':1000\n",
    "        }\n",
    "        \n",
    "        start_t = time.time()\n",
    "        model = multidms.utils.fit_wrapper(dataset, **fit_params)\n",
    "        model['replicate'] = replicate\n",
    "        models = pd.concat([models, model], ignore_index=True)\n",
    "        end_t = time.time()\n",
    "        fit_iter += 1\n",
    "        print(f\"Done with {fit_iter}/10! Total time: {round(end_t - start_t)}\")\n",
    "        print(\"------------------------------------------\")\n",
    "        \n",
    "\n",
    "    pickle.dump(models, open(f\"{OUTDIR}/models.pkl\", \"wb\"))"
   ]
  },
  {
   "cell_type": "code",
   "execution_count": 17,
   "id": "18e2a5f4",
   "metadata": {},
   "outputs": [
    {
     "data": {
      "image/png": "[encoded data removed]",
      "text/plain": [
       "<Figure size 700x400 with 1 Axes>"
      ]
     },
     "metadata": {},
     "output_type": "display_data"
    }
   ],
   "source": [
    "cmap=plt.get_cmap(\"tab20\")\n",
    "\n",
    "\n",
    "fig, ax = plt.subplots(1,figsize=[7,4])\n",
    "for i, (model, model_row) in enumerate(models.iterrows()):\n",
    "    ax.plot(\n",
    "        [1000 * (s+1) for s in range(len(model_row.step_loss))],\n",
    "        model_row.step_loss,\n",
    "        c=cmap.colors[i],\n",
    "        lw=3,\n",
    "        label=f\"rep: {model_row.replicate} lasso strength: {model_row.λ_lasso_shift}\"\n",
    "    )\n",
    "\n",
    "ax.set_ylabel(\"loss\")\n",
    "ax.set_xlabel(\"opt iterations\")\n",
    "ax.legend(loc='center left', bbox_to_anchor=(1, 0.5))\n",
    "plt.tight_layout()\n",
    "plt.show()"
   ]
  }
 ],
 "metadata": {
  "kernelspec": {
   "display_name": "Python 3 (ipykernel)",
   "language": "python",
   "name": "python3"
  },
  "language_info": {
   "codemirror_mode": {
    "name": "ipython",
    "version": 3
   },
   "file_extension": ".py",
   "mimetype": "text/x-python",
   "name": "python",
   "nbconvert_exporter": "python",
   "pygments_lexer": "ipython3",
   "version": "3.11.2"
  }
 },
 "nbformat": 4,
 "nbformat_minor": 5
}
